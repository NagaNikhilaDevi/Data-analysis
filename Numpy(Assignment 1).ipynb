{
 "cells": [
  {
   "cell_type": "code",
   "execution_count": 1,
   "id": "19bc0b1b",
   "metadata": {},
   "outputs": [],
   "source": [
    "# Write a program to create a 5 dimensional array with all zeros and ones\n",
    "import numpy as np\n",
    "zero=np.zeros((1,1,1,5,4),dtype=int)"
   ]
  },
  {
   "cell_type": "code",
   "execution_count": 2,
   "id": "62d2a933",
   "metadata": {},
   "outputs": [
    {
     "data": {
      "text/plain": [
       "array([[[[[0, 0, 0, 0],\n",
       "          [0, 0, 0, 0],\n",
       "          [0, 0, 0, 0],\n",
       "          [0, 0, 0, 0],\n",
       "          [0, 0, 0, 0]]]]])"
      ]
     },
     "execution_count": 2,
     "metadata": {},
     "output_type": "execute_result"
    }
   ],
   "source": [
    "zero"
   ]
  },
  {
   "cell_type": "code",
   "execution_count": 3,
   "id": "3a00097a",
   "metadata": {},
   "outputs": [],
   "source": [
    "one=np.ones((1,1,1,5,4),dtype=int)"
   ]
  },
  {
   "cell_type": "code",
   "execution_count": 4,
   "id": "141b6ee4",
   "metadata": {},
   "outputs": [
    {
     "data": {
      "text/plain": [
       "array([[[[[1, 1, 1, 1],\n",
       "          [1, 1, 1, 1],\n",
       "          [1, 1, 1, 1],\n",
       "          [1, 1, 1, 1],\n",
       "          [1, 1, 1, 1]]]]])"
      ]
     },
     "execution_count": 4,
     "metadata": {},
     "output_type": "execute_result"
    }
   ],
   "source": [
    "one"
   ]
  },
  {
   "cell_type": "code",
   "execution_count": 6,
   "id": "2bfa67a3",
   "metadata": {},
   "outputs": [
    {
     "name": "stdout",
     "output_type": "stream",
     "text": [
      "[[0 0 0 0 0 0 0 0 0 0]\n",
      " [1 1 1 1 1 1 1 1 1 1]\n",
      " [5 5 5 5 5 5 5 5 5 5]]\n"
     ]
    }
   ],
   "source": [
    "#Write a program to create an array of 10 zeros,10 ones, and 10 fives in row 1 2 and 3 which create a new array of shape (3,10)\n",
    "n=[]\n",
    "x=np.arange(1,31).reshape(3,10)\n",
    "for y in x.flatten():\n",
    "    if (y<=10):\n",
    "        n.append(0)\n",
    "    elif (11<=y<=20):\n",
    "        n.append(1)\n",
    "    else:\n",
    "        n.append(5)\n",
    "l=np.array(n).reshape(3,10)\n",
    "print(l)"
   ]
  },
  {
   "cell_type": "code",
   "execution_count": 7,
   "id": "7b47859f",
   "metadata": {},
   "outputs": [
    {
     "data": {
      "text/plain": [
       "array([[10, 11, 12, 13],\n",
       "       [14, 15, 16, 17],\n",
       "       [18, 19, 20, 21]])"
      ]
     },
     "execution_count": 7,
     "metadata": {},
     "output_type": "execute_result"
    }
   ],
   "source": [
    "#Write a program to create a 3x4 matrix filled with values from 10 to 21.\n",
    "np.arange(10,22).reshape(3,4)"
   ]
  },
  {
   "cell_type": "code",
   "execution_count": 11,
   "id": "64a4277f",
   "metadata": {},
   "outputs": [
    {
     "data": {
      "text/plain": [
       "array([[0, 0, 0, 0, 0, 0, 0, 0, 0, 0],\n",
       "       [0, 1, 0, 0, 0, 0, 0, 0, 0, 0],\n",
       "       [0, 0, 2, 0, 0, 0, 0, 0, 0, 0],\n",
       "       [0, 0, 0, 3, 0, 0, 0, 0, 0, 0],\n",
       "       [0, 0, 0, 0, 4, 0, 0, 0, 0, 0],\n",
       "       [0, 0, 0, 0, 0, 5, 0, 0, 0, 0],\n",
       "       [0, 0, 0, 0, 0, 0, 6, 0, 0, 0],\n",
       "       [0, 0, 0, 0, 0, 0, 0, 7, 0, 0],\n",
       "       [0, 0, 0, 0, 0, 0, 0, 0, 8, 0],\n",
       "       [0, 0, 0, 0, 0, 0, 0, 0, 0, 9]])"
      ]
     },
     "execution_count": 11,
     "metadata": {},
     "output_type": "execute_result"
    }
   ],
   "source": [
    "#Write a  program to create a 10x10 zero matrix with elements on the main diagonal equal to 0,1,2,3,4,5,6,7,8,9,\n",
    "np.diag([0,1,2,3,4,5,6,7,8,9])"
   ]
  },
  {
   "cell_type": "code",
   "execution_count": 12,
   "id": "6da20dde",
   "metadata": {},
   "outputs": [
    {
     "name": "stdout",
     "output_type": "stream",
     "text": [
      "[[ 1  2  3  4]\n",
      " [ 5  6  7  8]\n",
      " [ 9 10 11 12]\n",
      " [13 14 15 16]]\n",
      "\n",
      "[[ 4  3  2  1]\n",
      " [ 8  7  6  5]\n",
      " [12 11 10  9]\n",
      " [16 15 14 13]]\n"
     ]
    }
   ],
   "source": [
    "#Write a program to create a 4x4 array. Create an array from below array by swapping first and last, second and third columns.\n",
    "n=np.arange(1,17).reshape(4,4)\n",
    "m=n[:,::-1]\n",
    "print(n)\n",
    "print()\n",
    "print(m)"
   ]
  },
  {
   "cell_type": "code",
   "execution_count": 13,
   "id": "a49765a8",
   "metadata": {},
   "outputs": [
    {
     "data": {
      "text/plain": [
       "array([27, 26, 25, 24, 23, 22, 21, 20, 19, 18, 17, 16, 15, 14, 13, 12])"
      ]
     },
     "execution_count": 13,
     "metadata": {},
     "output_type": "execute_result"
    }
   ],
   "source": [
    "#Write a program to reverse an array (the first element becomes the last).\n",
    "#Given array:\n",
    "#[12 13 14 15 16 17 18 19 20 21 22 23 24 25 26 27 ]\n",
    "n=np.arange(12,28)\n",
    "n[::-1]"
   ]
  },
  {
   "cell_type": "code",
   "execution_count": 18,
   "id": "ad963998",
   "metadata": {},
   "outputs": [
    {
     "data": {
      "text/plain": [
       "array([35, 40, 45, 50, 55, 60, 65, 70, 75])"
      ]
     },
     "execution_count": 18,
     "metadata": {},
     "output_type": "execute_result"
    }
   ],
   "source": [
    "#Write a program to access all the elements greater than 30 and less than 80 and multiples of 5 from an array of shape 10,10 .Elements range from 1 to 100\n",
    "n=np.arange(1,101).reshape(10,10)\n",
    "m=(n>30) & (n<80) & (n%5==0)\n",
    "n[m]"
   ]
  },
  {
   "cell_type": "code",
   "execution_count": 22,
   "id": "c2e354dc",
   "metadata": {},
   "outputs": [
    {
     "name": "stdout",
     "output_type": "stream",
     "text": [
      "Enter no of rows: 6\n",
      "Enter no of columns: 6\n",
      "[[1 1 1 1 1 1]\n",
      " [1 0 0 0 0 1]\n",
      " [1 0 0 0 0 1]\n",
      " [1 0 0 0 0 1]\n",
      " [1 0 0 0 0 1]\n",
      " [1 1 1 1 1 1]]\n"
     ]
    }
   ],
   "source": [
    "#Write a program to create a 2D array with 1 on the border and 0 inside.\n",
    "n=int(input(\"Enter no of rows: \"))\n",
    "m=int(input(\"Enter no of columns: \"))\n",
    "l=np.zeros((n,m),dtype=int)\n",
    "for i in l:\n",
    "    l[0:1,:]=1\n",
    "    l[-1:,:]=1\n",
    "    l[:,0:1]=1\n",
    "    l[:,-1:]=1\n",
    "print(l)"
   ]
  },
  {
   "cell_type": "code",
   "execution_count": 40,
   "id": "2d5ce0f4",
   "metadata": {},
   "outputs": [],
   "source": [
    "#Write a program to create a checkerboard pattern .Don't use default array function\n",
    "#Checkerboard pattern:                                                   \n",
    "#[[0 1 0 1 0 1 0 1]                                                      \n",
    "# [1 0 1 0 1 0 1 0]                                                      \n",
    "# [0 1 0 1 0 1 0 1]\n",
    "# [1 0 1 0 1 0 1 0]                                                      \n",
    "# [0 1 0 1 0 1 0 1]                                                      \n",
    "# [1 0 1 0 1 0 1 0]                                                      \n",
    "# [0 1 0 1 0 1 0 1]                                                      \n",
    "# [1 0 1 0 1 0 1 0]]"
   ]
  },
  {
   "cell_type": "code",
   "execution_count": 28,
   "id": "e95d6c5e",
   "metadata": {},
   "outputs": [
    {
     "name": "stdout",
     "output_type": "stream",
     "text": [
      "[10, 40]\n"
     ]
    }
   ],
   "source": [
    "#Write a program to find common values between two arrays.\n",
    "#Expected Output:\n",
    "#array1: [10 20 40 60]\n",
    "#array2: [10, 30, 40,50]\n",
    "x=[]\n",
    "n=np.array([10,20,40,60])\n",
    "m=np.array([10,30,40,50])\n",
    "\n",
    "for i in n:\n",
    "    for j in m:\n",
    "        if i==j:\n",
    "            x.append(i)\n",
    "print(x)"
   ]
  },
  {
   "cell_type": "code",
   "execution_count": 30,
   "id": "409ccb4a",
   "metadata": {},
   "outputs": [
    {
     "name": "stdout",
     "output_type": "stream",
     "text": [
      "Enter the no of elements: 6\n",
      "Enter the elements: 1\n",
      "Enter the elements: 2\n",
      "Enter the elements: 3\n",
      "Enter the elements: 4\n",
      "Enter the elements: 5\n",
      "Enter the elements: 6\n",
      "[[1 2 3 4 5 6]]\n",
      "[1 2 3 4 5 6]\n"
     ]
    }
   ],
   "source": [
    "# Write a program to create an array 2d array and then reshape into 1d array\n",
    "l=[]\n",
    "n=int(input(\"Enter the no of elements: \"))\n",
    "for i in range(n):\n",
    "    num=int(input(\"Enter the elements: \"))\n",
    "    l.append(num)\n",
    "m=len(l)\n",
    "x=np.array(l,ndmin=2)\n",
    "print(x)\n",
    "print(x.reshape(m))"
   ]
  },
  {
   "cell_type": "code",
   "execution_count": 39,
   "id": "37b5625b",
   "metadata": {},
   "outputs": [
    {
     "name": "stdout",
     "output_type": "stream",
     "text": [
      "enter the range: 4\n",
      "enter the elements: 1,2,3,4\n",
      "enter the elements: 5,6,7,8\n",
      "enter the elements: 4,3,2,1\n",
      "enter the elements: 8,7,6,5\n",
      "['1,2,3,4', '5,6,7,8', '4,3,2,1', '8,7,6,5']\n"
     ]
    }
   ],
   "source": [
    "#Write a user defined function for creating a 1 or 2d array from scratch without using array functions\n",
    "l=[]\n",
    "n=int(input(\"enter the range: \"))\n",
    "for i in range(n):\n",
    "    num=input(\"enter the elements: \")\n",
    "    l.append(num)\n",
    "print(l)"
   ]
  },
  {
   "cell_type": "code",
   "execution_count": null,
   "id": "54ca5fb3",
   "metadata": {},
   "outputs": [],
   "source": []
  }
 ],
 "metadata": {
  "kernelspec": {
   "display_name": "Python 3 (ipykernel)",
   "language": "python",
   "name": "python3"
  },
  "language_info": {
   "codemirror_mode": {
    "name": "ipython",
    "version": 3
   },
   "file_extension": ".py",
   "mimetype": "text/x-python",
   "name": "python",
   "nbconvert_exporter": "python",
   "pygments_lexer": "ipython3",
   "version": "3.11.3"
  }
 },
 "nbformat": 4,
 "nbformat_minor": 5
}
