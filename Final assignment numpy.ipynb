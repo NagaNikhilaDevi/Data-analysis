{
 "cells": [
  {
   "cell_type": "code",
   "execution_count": 20,
   "id": "622f5b2b",
   "metadata": {},
   "outputs": [],
   "source": [
    "import numpy as np"
   ]
  },
  {
   "cell_type": "code",
   "execution_count": 21,
   "id": "1ff70c35",
   "metadata": {},
   "outputs": [
    {
     "data": {
      "text/plain": [
       "array([[  0.  ,  16.99,   1.01, ...,   1.  ,   0.  ,   2.  ],\n",
       "       [  1.  ,  10.34,   1.66, ...,   1.  ,   0.  ,   3.  ],\n",
       "       [  2.  ,  21.01,   3.5 , ...,   1.  ,   0.  ,   3.  ],\n",
       "       ...,\n",
       "       [241.  ,  22.67,   2.  , ...,   0.  ,   0.  ,   2.  ],\n",
       "       [242.  ,  17.82,   1.75, ...,   0.  ,   0.  ,   2.  ],\n",
       "       [243.  ,  18.78,   3.  , ...,   2.  ,   0.  ,   2.  ]])"
      ]
     },
     "execution_count": 21,
     "metadata": {},
     "output_type": "execute_result"
    }
   ],
   "source": [
    "var=np.genfromtxt(r\"C:\\Users\\DELL\\Downloads\\tipsf.numpy.csv\", delimiter=',', skip_header=1)\n",
    "var"
   ]
  },
  {
   "cell_type": "code",
   "execution_count": 22,
   "id": "e116043b",
   "metadata": {},
   "outputs": [
    {
     "data": {
      "text/plain": [
       "4827.77"
      ]
     },
     "execution_count": 22,
     "metadata": {},
     "output_type": "execute_result"
    }
   ],
   "source": [
    "#1) What is the total bill value?\n",
    "np.sum(var[:,1])"
   ]
  },
  {
   "cell_type": "code",
   "execution_count": 27,
   "id": "0ddaa38d",
   "metadata": {},
   "outputs": [
    {
     "data": {
      "text/plain": [
       "731.5799999999999"
      ]
     },
     "execution_count": 27,
     "metadata": {},
     "output_type": "execute_result"
    }
   ],
   "source": [
    "#2) What is the total tip value? \n",
    "np.sum(var[:,2])"
   ]
  },
  {
   "cell_type": "code",
   "execution_count": 30,
   "id": "42b6b0ed",
   "metadata": {},
   "outputs": [
    {
     "name": "stdout",
     "output_type": "stream",
     "text": [
      "sunday =  87\n",
      "saturday =  76\n",
      "thursday =  62\n",
      "friday =  19\n"
     ]
    }
   ],
   "source": [
    "#3) Count how many times sun,sat,thu,fri are there?\n",
    "z=np.unique(var[:,5],return_counts=True)\n",
    "a,b=z\n",
    "j=0\n",
    "for i in a:\n",
    "    if(i==0):\n",
    "        print(\"sunday = \",b[j])\n",
    "        j+=1\n",
    "    elif(i==1):\n",
    "        print(\"saturday = \",b[j])\n",
    "        j+=1\n",
    "    elif(i==2):\n",
    "        print(\"thursday = \",b[j])\n",
    "        j+=1\n",
    "    elif(i==3):\n",
    "        print(\"friday = \",b[j])\n",
    "        j+=1   "
   ]
  },
  {
   "cell_type": "code",
   "execution_count": 31,
   "id": "b7da4915",
   "metadata": {},
   "outputs": [
    {
     "name": "stdout",
     "output_type": "stream",
     "text": [
      "93 smokers are there\n"
     ]
    }
   ],
   "source": [
    "#4) How many smokers are there?\n",
    "q=np.sum(var[:,4])\n",
    "print(int(q),\"smokers are there\")"
   ]
  },
  {
   "cell_type": "code",
   "execution_count": 32,
   "id": "c638dc42",
   "metadata": {},
   "outputs": [
    {
     "name": "stdout",
     "output_type": "stream",
     "text": [
      "2.8334482758620685 average tip given by female\n",
      "3.0896178343949043 average tip given by male\n"
     ]
    }
   ],
   "source": [
    "#5) What is the average tip given by female and male?\n",
    "a=np.sum(var[:,2].take(np.where(var[:,3]==0)))\n",
    "b=np.sum(var[:,2].take(np.where(var[:,3]==1)))\n",
    "z=np.unique(var[:,3],return_counts=True)\n",
    "q,w=z\n",
    "print(a/w[0],\"average tip given by female\")\n",
    "print(b/w[1],\"average tip given by male\")"
   ]
  },
  {
   "cell_type": "code",
   "execution_count": 33,
   "id": "4f53fc69",
   "metadata": {},
   "outputs": [
    {
     "name": "stdout",
     "output_type": "stream",
     "text": [
      "total amount spent by female:  1571.0\n",
      "total amount spent by male:  3257.0\n"
     ]
    }
   ],
   "source": [
    "#6) How much amount have been spent by female and male?\n",
    "a=np.sum(var[:,1].take(np.where(var[:,3]==0)))\n",
    "b=np.sum(var[:,1].take(np.where(var[:,3]==1)))\n",
    "print(\"total amount spent by female: \",np.round(a))\n",
    "print(\"total amount spent by male: \",np.round(b))"
   ]
  },
  {
   "cell_type": "code",
   "execution_count": 34,
   "id": "4bc8e843",
   "metadata": {},
   "outputs": [
    {
     "name": "stdout",
     "output_type": "stream",
     "text": [
      "maximum tip is  10.0\n",
      "minimum tip is  1.0\n"
     ]
    }
   ],
   "source": [
    "#7) What is the min and max tip given? \n",
    "max_tip=np.max(var[:,2])\n",
    "min_tip=np.min(var[:,2])\n",
    "print(\"maximum tip is \",max_tip)\n",
    "print(\"minimum tip is \",min_tip)"
   ]
  },
  {
   "cell_type": "code",
   "execution_count": 41,
   "id": "9f3d3eb5",
   "metadata": {},
   "outputs": [
    {
     "name": "stdout",
     "output_type": "stream",
     "text": [
      "total female going for lunch 35\n",
      "total female going for dinner 52\n",
      "total male going for lunch 33\n",
      "total female going for dinner 124\n"
     ]
    }
   ],
   "source": [
    "#8) How many male and female are going for dinner and lunch?\n",
    "n=np.unique(var[:,3].take(np.where((var[:,6]==1))),return_counts=True)      #(lunch)        \n",
    "a,b=n\n",
    "m=np.unique(var[:,3].take(np.where((var[:,6]==0))),return_counts=True)       #(dinner)\n",
    "c,d=m\n",
    "for y in a:\n",
    "    if(y==0):\n",
    "        print(\"total female going for lunch\",b[0])\n",
    "        print(\"total female going for dinner\",d[0])\n",
    "    else:\n",
    "         print(\"total male going for lunch\",b[1])\n",
    "         print(\"total female going for dinner\",d[1])"
   ]
  },
  {
   "cell_type": "code",
   "execution_count": 38,
   "id": "e57fa1b5",
   "metadata": {},
   "outputs": [
    {
     "name": "stdout",
     "output_type": "stream",
     "text": [
      "average of size =  3.0\n"
     ]
    }
   ],
   "source": [
    "#9) Find out the average size?\n",
    "n=np.unique(var[:,7],return_counts=True)\n",
    "a,b=n\n",
    "avg=np.sum(var[:,7])/np.sum(b)\n",
    "print(\"average of size = \",np.round(avg))"
   ]
  },
  {
   "cell_type": "code",
   "execution_count": 40,
   "id": "4b92b825",
   "metadata": {},
   "outputs": [
    {
     "name": "stdout",
     "output_type": "stream",
     "text": [
      "female smokers are :  33\n",
      "male smokers are :  60\n"
     ]
    }
   ],
   "source": [
    "#10) Find how many female smokers and male smokers are there?\n",
    "n=np.unique(var[:,3].take(np.where((var[:,4]==1))),return_counts=True)\n",
    "a,b=n\n",
    "for y in a:\n",
    "    if(y==0):\n",
    "        print(\"female smokers are : \",b[0])\n",
    "    else:\n",
    "        print(\"male smokers are : \",b[1])"
   ]
  },
  {
   "cell_type": "code",
   "execution_count": null,
   "id": "e3f38afd",
   "metadata": {},
   "outputs": [],
   "source": []
  },
  {
   "cell_type": "code",
   "execution_count": 25,
   "id": "3b581097",
   "metadata": {},
   "outputs": [
    {
     "data": {
      "text/plain": [
       "array([[ 1.575     ,  1.225     ,  0.375     , ...,  6.3219385 ,\n",
       "         9.63883   , 10.        ],\n",
       "       [ 1.2375    ,  1.        ,  0.375     , ...,  3.798833  ,\n",
       "         7.654365  , 19.        ],\n",
       "       [ 1.45      ,  1.1625    ,  0.4125    , ...,  7.01650125,\n",
       "         7.257472  , 11.        ],\n",
       "       ...,\n",
       "       [ 1.125     ,  0.9125    ,  0.2875    , ...,  1.984465  ,\n",
       "         3.118445  ,  7.        ],\n",
       "       [ 1.625     ,  1.275     ,  0.4125    , ...,  7.86698625,\n",
       "        10.489315  , 11.        ],\n",
       "       [ 1.5875    ,  1.25      ,  0.3875    , ...,  7.38504475,\n",
       "         8.788345  , 11.        ]])"
      ]
     },
     "execution_count": 25,
     "metadata": {},
     "output_type": "execute_result"
    }
   ],
   "source": [
    "var2=np.genfromtxt(r\"C:\\Users\\DELL\\Downloads\\train_extended.csv\", delimiter=\",\", skip_header=1)\n",
    "var2"
   ]
  },
  {
   "cell_type": "code",
   "execution_count": 42,
   "id": "bde10087",
   "metadata": {},
   "outputs": [
    {
     "name": "stdout",
     "output_type": "stream",
     "text": [
      "print maximum length is  7.58349125\n",
      "print minimum length is  0.0\n"
     ]
    }
   ],
   "source": [
    "#1) What is the maximum and minnimum length?\n",
    "n=np.max(var2[:,0])\n",
    "print(\"print maximum length is \",n)\n",
    "m=np.min(var2[:,0])\n",
    "print(\"print minimum length is \",m)"
   ]
  },
  {
   "cell_type": "code",
   "execution_count": 44,
   "id": "0554f5c1",
   "metadata": {},
   "outputs": [
    {
     "data": {
      "text/plain": [
       "array(7.58349125)"
      ]
     },
     "execution_count": 44,
     "metadata": {},
     "output_type": "execute_result"
    }
   ],
   "source": [
    "#2) Find out the difference between max and min length?\n",
    "def f(x):\n",
    "    return np.max(x)-np.min(x)\n",
    "np.apply_along_axis(f,0,var2[:,0])"
   ]
  },
  {
   "cell_type": "code",
   "execution_count": 45,
   "id": "b5205f89",
   "metadata": {},
   "outputs": [
    {
     "data": {
      "text/plain": [
       "array([ 1.31244808,  1.02032036,  0.34602787, 23.12343631,  9.98937025,\n",
       "        4.99318096,  6.63422915,  9.950615  ])"
      ]
     },
     "execution_count": 45,
     "metadata": {},
     "output_type": "execute_result"
    }
   ],
   "source": [
    "#3) Find column wise average?\n",
    "def f1(x):\n",
    "    return np.sum(x)/200000\n",
    "np.apply_along_axis(f1,0,var2)"
   ]
  },
  {
   "cell_type": "code",
   "execution_count": 46,
   "id": "2dcc8502",
   "metadata": {},
   "outputs": [
    {
     "name": "stdout",
     "output_type": "stream",
     "text": [
      "(1, 55336)\n",
      "[[11. 14. 13. ... 11. 11. 11.]]\n"
     ]
    }
   ],
   "source": [
    "#4) Find out all the age whose height is gereater than 0.4?\n",
    "l=var2[:,7].take(np.where(var2[:,2]>0.4))\n",
    "print(l.shape)\n",
    "print(l)"
   ]
  },
  {
   "cell_type": "code",
   "execution_count": 47,
   "id": "763a398c",
   "metadata": {},
   "outputs": [
    {
     "name": "stdout",
     "output_type": "stream",
     "text": [
      "average height is  0.4085813793498825\n",
      "average weight is  31.681361864049048\n"
     ]
    }
   ],
   "source": [
    "#5) What is the average height and weight of the persons whose age is greater than 10?\n",
    "height=var2[:,2].take(np.where(var2[:,7]>10))\n",
    "count=height.shape\n",
    "weight=var2[:,3].take(np.where(var2[:,7]>10))\n",
    "count1=weight.shape\n",
    "l1=list(count)\n",
    "l2=list(count1)\n",
    "print(\"average height is \",np.sum(height)/l1[1])\n",
    "print(\"average weight is \",np.sum(weight)/l2[1])"
   ]
  },
  {
   "cell_type": "code",
   "execution_count": 49,
   "id": "1270a9c1",
   "metadata": {},
   "outputs": [
    {
     "data": {
      "text/plain": [
       "1326846.0"
      ]
     },
     "execution_count": 49,
     "metadata": {},
     "output_type": "execute_result"
    }
   ],
   "source": [
    "#6) What is the shell weight?\n",
    "np.round(np.sum(var2[:,6]))"
   ]
  },
  {
   "cell_type": "code",
   "execution_count": 50,
   "id": "7a06d8d7",
   "metadata": {},
   "outputs": [
    {
     "data": {
      "text/plain": [
       "(array([ 1.,  2.,  3.,  4.,  5.,  6.,  7.,  8.,  9., 10., 11., 12., 13.,\n",
       "        14., 15., 16., 17., 18., 19., 20., 21., 22., 23., 24., 25., 26.,\n",
       "        27., 29.]),\n",
       " array([   46,    42,   625,  2787,  5475, 12450, 18276, 26818, 32906,\n",
       "        30803, 23457, 12717, 10037,  6352,  4831,  3191,  2705,  1953,\n",
       "         1591,  1206,   721,   296,   352,   110,    51,    46,    99,\n",
       "           57], dtype=int64))"
      ]
     },
     "execution_count": 50,
     "metadata": {},
     "output_type": "execute_result"
    }
   ],
   "source": [
    "#7) How many persons belongs to each and every unique age?\n",
    "np.unique(var2[:,7],return_counts=True)"
   ]
  },
  {
   "cell_type": "code",
   "execution_count": 51,
   "id": "e1075367",
   "metadata": {},
   "outputs": [
    {
     "name": "stdout",
     "output_type": "stream",
     "text": [
      "the difference between shucked weight and viscera weight is  999238.0\n"
     ]
    }
   ],
   "source": [
    "#8) What is the differemce between shucked weight and viscera weight?\n",
    "n=np.sum(var2[:,4])\n",
    "m=np.sum(var2[:,5])\n",
    "print(\"the difference between shucked weight and viscera weight is \",np.round(n-m))"
   ]
  },
  {
   "cell_type": "code",
   "execution_count": 53,
   "id": "636ada19",
   "metadata": {},
   "outputs": [
    {
     "name": "stdout",
     "output_type": "stream",
     "text": [
      "the average height of the persons whose age is between 14 and 19 is  7.0\n"
     ]
    }
   ],
   "source": [
    "#9) What is the average height of the persons whose age is between 14 and 19?\n",
    "n=var2.take(np.where((var2[:,7]>14) & (var2[:,7]<19)))\n",
    "sum=np.sum(n)\n",
    "count=list(n.shape)\n",
    "print(\"the average height of the persons whose age is between 14 and 19 is \",np.round(sum/count[1]))"
   ]
  },
  {
   "cell_type": "code",
   "execution_count": 54,
   "id": "cd7240b0",
   "metadata": {},
   "outputs": [
    {
     "name": "stdout",
     "output_type": "stream",
     "text": [
      "the average weight if we include all shucked weight ,viscera weight and shell weight with weight is  45.0\n"
     ]
    }
   ],
   "source": [
    "#10) What is the average weight if we include all shucked weight ,viscera weight and shell weight with weight.\n",
    "n=np.sum(var2[:,3:7])\n",
    "count=list(var2.shape)\n",
    "print(\"the average weight if we include all shucked weight ,viscera weight and shell weight with weight is \",np.round(n/count[0]))"
   ]
  },
  {
   "cell_type": "code",
   "execution_count": null,
   "id": "f0206b8f",
   "metadata": {},
   "outputs": [],
   "source": []
  }
 ],
 "metadata": {
  "kernelspec": {
   "display_name": "Python 3 (ipykernel)",
   "language": "python",
   "name": "python3"
  },
  "language_info": {
   "codemirror_mode": {
    "name": "ipython",
    "version": 3
   },
   "file_extension": ".py",
   "mimetype": "text/x-python",
   "name": "python",
   "nbconvert_exporter": "python",
   "pygments_lexer": "ipython3",
   "version": "3.11.3"
  }
 },
 "nbformat": 4,
 "nbformat_minor": 5
}
